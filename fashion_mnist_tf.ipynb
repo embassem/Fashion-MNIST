{
  "nbformat": 4,
  "nbformat_minor": 0,
  "metadata": {
    "colab": {
      "name": "fashion-mnist-tf.ipynb",
      "provenance": []
    },
    "kernelspec": {
      "name": "python3",
      "display_name": "Python 3"
    }
  },
  "cells": [
    {
      "cell_type": "code",
      "metadata": {
        "id": "C26df-xS8VFM",
        "colab_type": "code",
        "colab": {}
      },
      "source": [
        ""
      ],
      "execution_count": 0,
      "outputs": []
    },
    {
      "cell_type": "markdown",
      "metadata": {
        "id": "9Mk3KbJ399Xi",
        "colab_type": "text"
      },
      "source": [
        "update agian"
      ]
    },
    {
      "cell_type": "markdown",
      "metadata": {
        "id": "8xkTjCel9iq4",
        "colab_type": "text"
      },
      "source": [
        "Update notebook"
      ]
    }
  ]
}